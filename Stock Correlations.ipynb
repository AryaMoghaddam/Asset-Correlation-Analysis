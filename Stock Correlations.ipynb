{
 "cells": [
  {
   "cell_type": "markdown",
   "id": "eeabf9ee",
   "metadata": {},
   "source": [
    "Stock Correlation analysis using Yahoo finance API\n"
   ]
  },
  {
   "cell_type": "code",
   "execution_count": 1,
   "id": "97554c8d",
   "metadata": {},
   "outputs": [
    {
     "ename": "ModuleNotFoundError",
     "evalue": "No module named 'pandas_datareader'",
     "output_type": "error",
     "traceback": [
      "\u001b[1;31m---------------------------------------------------------------------------\u001b[0m",
      "\u001b[1;31mModuleNotFoundError\u001b[0m                       Traceback (most recent call last)",
      "\u001b[1;32m<ipython-input-1-30d86e19072e>\u001b[0m in \u001b[0;36m<module>\u001b[1;34m\u001b[0m\n\u001b[1;32m----> 1\u001b[1;33m \u001b[1;32mimport\u001b[0m \u001b[0mpandas_datareader\u001b[0m \u001b[1;32mas\u001b[0m \u001b[0mweb\u001b[0m\u001b[1;33m\u001b[0m\u001b[1;33m\u001b[0m\u001b[0m\n\u001b[0m\u001b[0;32m      2\u001b[0m \u001b[1;32mimport\u001b[0m \u001b[0mpandas\u001b[0m \u001b[1;32mas\u001b[0m \u001b[0mpd\u001b[0m\u001b[1;33m\u001b[0m\u001b[1;33m\u001b[0m\u001b[0m\n\u001b[0;32m      3\u001b[0m \u001b[1;32mimport\u001b[0m \u001b[0mmatplotlib\u001b[0m\u001b[1;33m.\u001b[0m\u001b[0mpyplot\u001b[0m \u001b[1;32mas\u001b[0m \u001b[0mplt\u001b[0m\u001b[1;33m\u001b[0m\u001b[1;33m\u001b[0m\u001b[0m\n\u001b[0;32m      4\u001b[0m \u001b[1;32mimport\u001b[0m \u001b[0mseaborn\u001b[0m \u001b[1;32mas\u001b[0m \u001b[0msns\u001b[0m\u001b[1;33m\u001b[0m\u001b[1;33m\u001b[0m\u001b[0m\n\u001b[0;32m      5\u001b[0m \u001b[1;32mimport\u001b[0m \u001b[0mdatatime\u001b[0m \u001b[1;32mas\u001b[0m \u001b[0mdt\u001b[0m\u001b[1;33m\u001b[0m\u001b[1;33m\u001b[0m\u001b[0m\n",
      "\u001b[1;31mModuleNotFoundError\u001b[0m: No module named 'pandas_datareader'"
     ]
    }
   ],
   "source": [
    "import pandas_datareader as web\n",
    "import pandas as pd\n",
    "import matplotlib.pyplot as plt\n",
    "import seaborn as sns\n",
    "import datatime as dt\n",
    "\n",
    "\n",
    "#Start of time frame from 4 years ago up until today\n",
    "start = dt.datetime(2018,1,1)\n",
    "end = dt.dataframe.now()\n",
    "\n",
    "#Stock tickers\n",
    "#If you want to use this project you can add your own stock tickers, just make sure they exist in the time frame\n",
    "tickers = [\"FB\", \"GS\", \"NVDA\", \"MSFT\", \"TSLA\", \"AAPL\", \"CCL\", \"BA\"]\n",
    "colnames = []\n",
    "\n",
    "for ticker in tickers:\n",
    "    data = web.Datareader(ticker, \"yahoo\", start, end)\n",
    "    if len(colnames) == 0:\n",
    "        #Take the closest adjusted price and copy it\n",
    "        combined = data[['Adj Close']].copy()\n",
    "    else:\n",
    "        combined = combined.join(data['Adj Close'])\n",
    "    #Append to the colnames to know which stock we already added\n",
    "    colnames.append(ticker)\n",
    "    combined.columns = colnames\n",
    "    \n",
    "print(combined)\n",
    "        "
   ]
  },
  {
   "cell_type": "code",
   "execution_count": null,
   "id": "bab903ef",
   "metadata": {},
   "outputs": [],
   "source": []
  }
 ],
 "metadata": {
  "kernelspec": {
   "display_name": "Python 3",
   "language": "python",
   "name": "python3"
  },
  "language_info": {
   "codemirror_mode": {
    "name": "ipython",
    "version": 3
   },
   "file_extension": ".py",
   "mimetype": "text/x-python",
   "name": "python",
   "nbconvert_exporter": "python",
   "pygments_lexer": "ipython3",
   "version": "3.8.8"
  }
 },
 "nbformat": 4,
 "nbformat_minor": 5
}
